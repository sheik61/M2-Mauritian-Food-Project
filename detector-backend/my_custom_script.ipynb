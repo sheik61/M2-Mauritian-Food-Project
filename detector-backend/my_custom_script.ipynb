{
 "cells": [
  {
   "cell_type": "code",
   "execution_count": 1,
   "source": [
    "import os\r\n",
    "import cv2"
   ],
   "outputs": [],
   "metadata": {}
  },
  {
   "cell_type": "code",
   "execution_count": 2,
   "source": [
    "#define utility function\r\n",
    "def imShow(path):\r\n",
    "  import cv2\r\n",
    "  import matplotlib.pyplot as plt\r\n",
    "  %matplotlib inline\r\n",
    "\r\n",
    "  image = cv2.imread(path)\r\n",
    "  height, width = image.shape[:2]\r\n",
    "  resized_image = cv2.resize(image,(3*width, 3*height), interpolation = cv2.INTER_CUBIC)\r\n",
    "\r\n",
    "  fig = plt.gcf()\r\n",
    "  fig.set_size_inches(18, 10)\r\n",
    "  plt.axis(\"off\")\r\n",
    "  #plt.rcParams['figure.figsize'] = [10, 5]\r\n",
    "  plt.imshow(cv2.cvtColor(resized_image, cv2.COLOR_BGR2RGB))\r\n",
    "  plt.show()\r\n",
    "  "
   ],
   "outputs": [],
   "metadata": {}
  },
  {
   "cell_type": "code",
   "execution_count": 3,
   "source": [
    "WEIGHT_PATH = 'D;/Downloads/custom-yolov4-detector_final.weights'"
   ],
   "outputs": [],
   "metadata": {}
  },
  {
   "cell_type": "code",
   "execution_count": 4,
   "source": [
    "./darknet detector train data/obj.data cfg/custom-yolov4-detector.cfg yolov4.conv.137 -dont_show -map\r\n"
   ],
   "outputs": [
    {
     "output_type": "error",
     "ename": "SyntaxError",
     "evalue": "invalid syntax (Temp/ipykernel_15724/1112667228.py, line 1)",
     "traceback": [
      "\u001b[1;36m  File \u001b[1;32m\"C:\\Users\\Sheik\\AppData\\Local\\Temp/ipykernel_15724/1112667228.py\"\u001b[1;36m, line \u001b[1;32m1\u001b[0m\n\u001b[1;33m    ./darknet detector train data/obj.data cfg/custom-yolov4-detector.cfg yolov4.conv.137 -dont_show -map\u001b[0m\n\u001b[1;37m    ^\u001b[0m\n\u001b[1;31mSyntaxError\u001b[0m\u001b[1;31m:\u001b[0m invalid syntax\n"
     ]
    }
   ],
   "metadata": {}
  }
 ],
 "metadata": {
  "orig_nbformat": 4,
  "language_info": {
   "name": "python",
   "version": "3.9.7",
   "mimetype": "text/x-python",
   "codemirror_mode": {
    "name": "ipython",
    "version": 3
   },
   "pygments_lexer": "ipython3",
   "nbconvert_exporter": "python",
   "file_extension": ".py"
  },
  "kernelspec": {
   "name": "python3",
   "display_name": "Python 3.9.7 64-bit (windows store)"
  },
  "interpreter": {
   "hash": "b645e109e3eb8111778bc2d802ed5fcbd12450bc9300f1cddadde591de2d9390"
  }
 },
 "nbformat": 4,
 "nbformat_minor": 2
}