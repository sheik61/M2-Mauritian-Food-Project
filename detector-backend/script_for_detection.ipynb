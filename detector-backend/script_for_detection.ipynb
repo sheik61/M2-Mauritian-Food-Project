{
 "cells": [
  {
   "cell_type": "code",
   "execution_count": 1,
   "source": [
    "\r\n",
    "import tensorflow as tf\r\n",
    "import tensorflow_hub as hub\r\n",
    "\r\n",
    "jpeg_decode_fn = lambda x: tf.image.decode_jpeg(x, channels=3)\r\n",
    "map_fn = lambda y: tf.cast(tf.map_fn(jpeg_decode_fn, tf.io.decode_base64(y),\r\n",
    "                              dtype=tf.uint8), dtype=tf.float32)\r\n",
    "\r\n",
    "model = tf.keras.Sequential()\r\n",
    "model.add(tf.keras.layers.Input(name='input_image', shape=[], dtype=tf.string))\r\n",
    "b64_to_numpy = tf.keras.layers.Lambda(map_fn)\r\n",
    "model.add(b64_to_numpy)\r\n",
    "\r\n",
    "model_url = 'C:/Users/Sheik/Desktop/YoloV4 - Darknet/convert-weights-to-h5/checkpoints/yolov4-416'\r\n",
    "inception = hub.KerasLayer(model_url, name='feature_vector')\r\n",
    "model.add(inception)\r\n",
    "\r\n",
    "# save the model\r\n",
    "model.save(\"./new_test_model\")"
   ],
   "outputs": [
    {
     "output_type": "stream",
     "name": "stdout",
     "text": [
      "WARNING:tensorflow:Please add `keras.layers.InputLayer` instead of `keras.Input` to Sequential model. `keras.Input` is intended to be used by Functional model.\n",
      "WARNING:tensorflow:From C:\\Users\\Sheik\\AppData\\Local\\Packages\\PythonSoftwareFoundation.Python.3.9_qbz5n2kfra8p0\\LocalCache\\local-packages\\Python39\\site-packages\\tensorflow\\python\\util\\deprecation.py:602: calling map_fn_v2 (from tensorflow.python.ops.map_fn) with dtype is deprecated and will be removed in a future version.\n",
      "Instructions for updating:\n",
      "Use fn_output_signature instead\n",
      "WARNING:tensorflow:Compiled the loaded model, but the compiled metrics have yet to be built. `model.compile_metrics` will be empty until you train or evaluate the model.\n",
      "INFO:tensorflow:Assets written to: ./new_test_model\\assets\n"
     ]
    }
   ],
   "metadata": {}
  },
  {
   "cell_type": "code",
   "execution_count": 5,
   "source": [
    "\r\n",
    "\r\n",
    "loaded_model = tf.keras.models.load_model(\r\n",
    "   'C:/Users/Sheik/Desktop/YoloV4 - Darknet/convert-weights-to-h5/checkpoints/yolov4-416/',\r\n",
    "    custom_objects=None, compile=True)"
   ],
   "outputs": [
    {
     "output_type": "stream",
     "name": "stdout",
     "text": [
      "WARNING:tensorflow:No training configuration found in save file, so the model was *not* compiled. Compile it manually.\n"
     ]
    }
   ],
   "metadata": {}
  }
 ],
 "metadata": {
  "orig_nbformat": 4,
  "language_info": {
   "name": "python",
   "version": "3.9.7",
   "mimetype": "text/x-python",
   "codemirror_mode": {
    "name": "ipython",
    "version": 3
   },
   "pygments_lexer": "ipython3",
   "nbconvert_exporter": "python",
   "file_extension": ".py"
  },
  "kernelspec": {
   "name": "python3",
   "display_name": "Python 3.9.7 64-bit (windows store)"
  },
  "interpreter": {
   "hash": "b645e109e3eb8111778bc2d802ed5fcbd12450bc9300f1cddadde591de2d9390"
  }
 },
 "nbformat": 4,
 "nbformat_minor": 2
}